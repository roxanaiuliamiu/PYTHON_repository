{
 "cells": [
  {
   "cell_type": "markdown",
   "id": "be1d17f9-5fbb-48dd-8b82-b7d280ae907b",
   "metadata": {},
   "source": [
    "# importing libraries"
   ]
  },
  {
   "cell_type": "code",
   "execution_count": 1,
   "id": "57c87257-4654-476d-935f-1861631d9375",
   "metadata": {},
   "outputs": [],
   "source": [
    "import pandas as pd\n",
    "import numpy as np\n",
    "import os"
   ]
  },
  {
   "cell_type": "code",
   "execution_count": 3,
   "id": "849c50fa-e2ce-4469-9bc6-63d8f0b4d56a",
   "metadata": {},
   "outputs": [],
   "source": [
    "# Importing libraries\n",
    "import pandas as pd\n",
    "import numpy as np\n",
    "import os"
   ]
  },
  {
   "cell_type": "markdown",
   "id": "a5165730-96d7-4812-bd05-cd89a5ce0cbb",
   "metadata": {},
   "source": [
    "# Working with Python data types"
   ]
  },
  {
   "cell_type": "code",
   "execution_count": 48,
   "id": "da6417d0-2f0e-499d-aab4-0a24ed220f82",
   "metadata": {},
   "outputs": [
    {
     "data": {
      "text/plain": [
       "100"
      ]
     },
     "execution_count": 48,
     "metadata": {},
     "output_type": "execute_result"
    }
   ],
   "source": [
    "## 4.7. code 3 different way of reaching the result of 100\n",
    "234+234-368"
   ]
  },
  {
   "cell_type": "code",
   "execution_count": 33,
   "id": "569c48ca-7f37-434e-abcd-e38fc56bea96",
   "metadata": {},
   "outputs": [
    {
     "data": {
      "text/plain": [
       "100"
      ]
     },
     "execution_count": 33,
     "metadata": {},
     "output_type": "execute_result"
    }
   ],
   "source": [
    "2+3-700*0+(9*10+5)"
   ]
  },
  {
   "cell_type": "code",
   "execution_count": 34,
   "id": "974f332a-aebc-44b0-aecd-7637a896210e",
   "metadata": {},
   "outputs": [
    {
     "data": {
      "text/plain": [
       "100.0"
      ]
     },
     "execution_count": 34,
     "metadata": {},
     "output_type": "execute_result"
    }
   ],
   "source": [
    "500/5+10*10-100"
   ]
  },
  {
   "cell_type": "code",
   "execution_count": 49,
   "id": "8edc0a4e-e61c-4c8b-a43a-9e474b0e40ae",
   "metadata": {},
   "outputs": [],
   "source": [
    "##code 2 floating -point variables and divide them by each other\n",
    "a=356"
   ]
  },
  {
   "cell_type": "code",
   "execution_count": 36,
   "id": "b2090a79-052a-40e5-935d-06197c3e06b8",
   "metadata": {},
   "outputs": [],
   "source": [
    "b=2"
   ]
  },
  {
   "cell_type": "code",
   "execution_count": 37,
   "id": "06ce1ef4-14ae-49ae-8f6e-53a986b32275",
   "metadata": {},
   "outputs": [
    {
     "data": {
      "text/plain": [
       "178.0"
      ]
     },
     "execution_count": 37,
     "metadata": {},
     "output_type": "execute_result"
    }
   ],
   "source": [
    "a/b"
   ]
  },
  {
   "cell_type": "code",
   "execution_count": 50,
   "id": "3a18f1c2-c261-4c46-b4ff-99afeea987fe",
   "metadata": {},
   "outputs": [],
   "source": [
    "## construct a short word made of separate strings\n",
    "c='im'+'por'+'ting'"
   ]
  },
  {
   "cell_type": "code",
   "execution_count": 39,
   "id": "c67a7859-c259-41cc-9c2e-9527882557bd",
   "metadata": {},
   "outputs": [
    {
     "data": {
      "text/plain": [
       "'importing'"
      ]
     },
     "execution_count": 39,
     "metadata": {},
     "output_type": "execute_result"
    }
   ],
   "source": [
    "c"
   ]
  },
  {
   "cell_type": "code",
   "execution_count": 51,
   "id": "9602ee1b-1cd8-4e2e-8c95-2b401d9fb185",
   "metadata": {},
   "outputs": [],
   "source": [
    "## construct 2 short sentences made of separate strings\n",
    "d='I '"
   ]
  },
  {
   "cell_type": "code",
   "execution_count": 41,
   "id": "45eecb8b-5677-496e-90b2-1caa3a9d5745",
   "metadata": {},
   "outputs": [],
   "source": [
    "e='finnished '"
   ]
  },
  {
   "cell_type": "code",
   "execution_count": 42,
   "id": "a9e02ba0-125c-4e93-8c03-67cd176bf2b5",
   "metadata": {},
   "outputs": [],
   "source": [
    "f='my'+' '+'homework.'"
   ]
  },
  {
   "cell_type": "code",
   "execution_count": 43,
   "id": "30c1163a-4ed5-41c0-987c-a2b6b687b5b9",
   "metadata": {},
   "outputs": [],
   "source": [
    "final=d+e+f\n"
   ]
  },
  {
   "cell_type": "code",
   "execution_count": 44,
   "id": "7adf07fc-8d96-44c9-b7df-f064d9b8bb14",
   "metadata": {},
   "outputs": [
    {
     "data": {
      "text/plain": [
       "'I finnished my homework.'"
      ]
     },
     "execution_count": 44,
     "metadata": {},
     "output_type": "execute_result"
    }
   ],
   "source": [
    "final"
   ]
  },
  {
   "cell_type": "code",
   "execution_count": 46,
   "id": "23041e78-0e07-414c-bec5-d9ce46a1b15b",
   "metadata": {},
   "outputs": [
    {
     "data": {
      "text/plain": [
       "'i will submit soon '"
      ]
     },
     "execution_count": 46,
     "metadata": {},
     "output_type": "execute_result"
    }
   ],
   "source": [
    "'i '+'will '+'submit '+'soon '"
   ]
  },
  {
   "cell_type": "code",
   "execution_count": 52,
   "id": "3ac2370f-9d76-48aa-8e95-4dc3796eb2fd",
   "metadata": {},
   "outputs": [],
   "source": [
    "bonus='bonus'"
   ]
  },
  {
   "cell_type": "code",
   "execution_count": 53,
   "id": "a2850d28-bd32-4214-b670-f614ce1f5d4e",
   "metadata": {},
   "outputs": [
    {
     "data": {
      "text/plain": [
       "'bonusbonusbonusbonusbonusbonusbonusbonusbonusbonus'"
      ]
     },
     "execution_count": 53,
     "metadata": {},
     "output_type": "execute_result"
    }
   ],
   "source": [
    "bonus*10"
   ]
  },
  {
   "cell_type": "code",
   "execution_count": null,
   "id": "8ee5d0c0-ddd6-4dcf-830c-29b309ed009e",
   "metadata": {},
   "outputs": [],
   "source": []
  }
 ],
 "metadata": {
  "kernelspec": {
   "display_name": "Python 3 (ipykernel)",
   "language": "python",
   "name": "python3"
  },
  "language_info": {
   "codemirror_mode": {
    "name": "ipython",
    "version": 3
   },
   "file_extension": ".py",
   "mimetype": "text/x-python",
   "name": "python",
   "nbconvert_exporter": "python",
   "pygments_lexer": "ipython3",
   "version": "3.11.7"
  }
 },
 "nbformat": 4,
 "nbformat_minor": 5
}
